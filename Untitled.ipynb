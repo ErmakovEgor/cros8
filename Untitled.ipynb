{
 "cells": [
  {
   "cell_type": "code",
   "execution_count": 29,
   "metadata": {},
   "outputs": [
    {
     "data": {
      "text/html": [
       "<a href=\"https://www.kaggle.com/luiscorter/netflix-original-films-imdb-scores\">Showing Text</a>\n"
      ],
      "text/plain": [
       "<IPython.core.display.HTML object>"
      ]
     },
     "metadata": {},
     "output_type": "display_data"
    }
   ],
   "source": [
    "%%html\n",
    "<a href=\"https://www.kaggle.com/luiscorter/netflix-original-films-imdb-scores\">Showing Text</a>"
   ]
  },
  {
   "cell_type": "code",
   "execution_count": 2,
   "metadata": {},
   "outputs": [],
   "source": [
    "import pandas as pd"
   ]
  },
  {
   "cell_type": "code",
   "execution_count": 5,
   "metadata": {},
   "outputs": [],
   "source": [
    "serials_dataset=pd.read_csv(\"serials.csv\")"
   ]
  },
  {
   "cell_type": "code",
   "execution_count": 6,
   "metadata": {},
   "outputs": [
    {
     "data": {
      "text/html": [
       "<div>\n",
       "<style scoped>\n",
       "    .dataframe tbody tr th:only-of-type {\n",
       "        vertical-align: middle;\n",
       "    }\n",
       "\n",
       "    .dataframe tbody tr th {\n",
       "        vertical-align: top;\n",
       "    }\n",
       "\n",
       "    .dataframe thead th {\n",
       "        text-align: right;\n",
       "    }\n",
       "</style>\n",
       "<table border=\"1\" class=\"dataframe\">\n",
       "  <thead>\n",
       "    <tr style=\"text-align: right;\">\n",
       "      <th></th>\n",
       "      <th>Title</th>\n",
       "      <th>Genre</th>\n",
       "      <th>Premiere</th>\n",
       "      <th>Runtime</th>\n",
       "      <th>IMDB Score</th>\n",
       "      <th>Language</th>\n",
       "    </tr>\n",
       "  </thead>\n",
       "  <tbody>\n",
       "    <tr>\n",
       "      <th>0</th>\n",
       "      <td>Enter the Anime</td>\n",
       "      <td>Documentary</td>\n",
       "      <td>August 5, 2019</td>\n",
       "      <td>58</td>\n",
       "      <td>2.5</td>\n",
       "      <td>English/Japanese</td>\n",
       "    </tr>\n",
       "    <tr>\n",
       "      <th>1</th>\n",
       "      <td>Dark Forces</td>\n",
       "      <td>Thriller</td>\n",
       "      <td>August 21, 2020</td>\n",
       "      <td>81</td>\n",
       "      <td>2.6</td>\n",
       "      <td>Spanish</td>\n",
       "    </tr>\n",
       "    <tr>\n",
       "      <th>2</th>\n",
       "      <td>The App</td>\n",
       "      <td>Science fiction/Drama</td>\n",
       "      <td>December 26, 2019</td>\n",
       "      <td>79</td>\n",
       "      <td>2.6</td>\n",
       "      <td>Italian</td>\n",
       "    </tr>\n",
       "    <tr>\n",
       "      <th>3</th>\n",
       "      <td>The Open House</td>\n",
       "      <td>Horror thriller</td>\n",
       "      <td>January 19, 2018</td>\n",
       "      <td>94</td>\n",
       "      <td>3.2</td>\n",
       "      <td>English</td>\n",
       "    </tr>\n",
       "    <tr>\n",
       "      <th>4</th>\n",
       "      <td>Kaali Khuhi</td>\n",
       "      <td>Mystery</td>\n",
       "      <td>October 30, 2020</td>\n",
       "      <td>90</td>\n",
       "      <td>3.4</td>\n",
       "      <td>Hindi</td>\n",
       "    </tr>\n",
       "    <tr>\n",
       "      <th>...</th>\n",
       "      <td>...</td>\n",
       "      <td>...</td>\n",
       "      <td>...</td>\n",
       "      <td>...</td>\n",
       "      <td>...</td>\n",
       "      <td>...</td>\n",
       "    </tr>\n",
       "    <tr>\n",
       "      <th>579</th>\n",
       "      <td>Taylor Swift: Reputation Stadium Tour</td>\n",
       "      <td>Concert Film</td>\n",
       "      <td>December 31, 2018</td>\n",
       "      <td>125</td>\n",
       "      <td>8.4</td>\n",
       "      <td>English</td>\n",
       "    </tr>\n",
       "    <tr>\n",
       "      <th>580</th>\n",
       "      <td>Winter on Fire: Ukraine's Fight for Freedom</td>\n",
       "      <td>Documentary</td>\n",
       "      <td>October 9, 2015</td>\n",
       "      <td>91</td>\n",
       "      <td>8.4</td>\n",
       "      <td>English/Ukranian/Russian</td>\n",
       "    </tr>\n",
       "    <tr>\n",
       "      <th>581</th>\n",
       "      <td>Springsteen on Broadway</td>\n",
       "      <td>One-man show</td>\n",
       "      <td>December 16, 2018</td>\n",
       "      <td>153</td>\n",
       "      <td>8.5</td>\n",
       "      <td>English</td>\n",
       "    </tr>\n",
       "    <tr>\n",
       "      <th>582</th>\n",
       "      <td>Emicida: AmarElo - It's All For Yesterday</td>\n",
       "      <td>Documentary</td>\n",
       "      <td>December 8, 2020</td>\n",
       "      <td>89</td>\n",
       "      <td>8.6</td>\n",
       "      <td>Portuguese</td>\n",
       "    </tr>\n",
       "    <tr>\n",
       "      <th>583</th>\n",
       "      <td>David Attenborough: A Life on Our Planet</td>\n",
       "      <td>Documentary</td>\n",
       "      <td>October 4, 2020</td>\n",
       "      <td>83</td>\n",
       "      <td>9.0</td>\n",
       "      <td>English</td>\n",
       "    </tr>\n",
       "  </tbody>\n",
       "</table>\n",
       "<p>584 rows × 6 columns</p>\n",
       "</div>"
      ],
      "text/plain": [
       "                                           Title                  Genre  \\\n",
       "0                                Enter the Anime            Documentary   \n",
       "1                                    Dark Forces               Thriller   \n",
       "2                                        The App  Science fiction/Drama   \n",
       "3                                 The Open House        Horror thriller   \n",
       "4                                    Kaali Khuhi                Mystery   \n",
       "..                                           ...                    ...   \n",
       "579        Taylor Swift: Reputation Stadium Tour           Concert Film   \n",
       "580  Winter on Fire: Ukraine's Fight for Freedom            Documentary   \n",
       "581                      Springsteen on Broadway           One-man show   \n",
       "582    Emicida: AmarElo - It's All For Yesterday            Documentary   \n",
       "583     David Attenborough: A Life on Our Planet            Documentary   \n",
       "\n",
       "              Premiere  Runtime  IMDB Score                  Language  \n",
       "0       August 5, 2019       58         2.5          English/Japanese  \n",
       "1      August 21, 2020       81         2.6                   Spanish  \n",
       "2    December 26, 2019       79         2.6                   Italian  \n",
       "3     January 19, 2018       94         3.2                   English  \n",
       "4     October 30, 2020       90         3.4                     Hindi  \n",
       "..                 ...      ...         ...                       ...  \n",
       "579  December 31, 2018      125         8.4                   English  \n",
       "580    October 9, 2015       91         8.4  English/Ukranian/Russian  \n",
       "581  December 16, 2018      153         8.5                   English  \n",
       "582   December 8, 2020       89         8.6                Portuguese  \n",
       "583    October 4, 2020       83         9.0                   English  \n",
       "\n",
       "[584 rows x 6 columns]"
      ]
     },
     "execution_count": 6,
     "metadata": {},
     "output_type": "execute_result"
    }
   ],
   "source": [
    "serials_dataset"
   ]
  },
  {
   "cell_type": "code",
   "execution_count": 7,
   "metadata": {},
   "outputs": [
    {
     "data": {
      "text/plain": [
       "(584, 6)"
      ]
     },
     "execution_count": 7,
     "metadata": {},
     "output_type": "execute_result"
    }
   ],
   "source": [
    "serials_dataset.shape"
   ]
  },
  {
   "cell_type": "code",
   "execution_count": 8,
   "metadata": {},
   "outputs": [
    {
     "data": {
      "text/plain": [
       "Index(['Title', 'Genre', 'Premiere', 'Runtime', 'IMDB Score', 'Language'], dtype='object')"
      ]
     },
     "execution_count": 8,
     "metadata": {},
     "output_type": "execute_result"
    }
   ],
   "source": [
    "serials_dataset.columns"
   ]
  },
  {
   "cell_type": "code",
   "execution_count": 18,
   "metadata": {},
   "outputs": [
    {
     "data": {
      "text/plain": [
       "Title          Enter the Anime\n",
       "Genre              Documentary\n",
       "Premiere        August 5, 2019\n",
       "Runtime                     58\n",
       "IMDB Score                 2.5\n",
       "Language      English/Japanese\n",
       "Name: 0, dtype: object"
      ]
     },
     "execution_count": 18,
     "metadata": {},
     "output_type": "execute_result"
    }
   ],
   "source": [
    "serials_dataset.iloc[0]"
   ]
  },
  {
   "cell_type": "code",
   "execution_count": 10,
   "metadata": {},
   "outputs": [
    {
     "data": {
      "text/html": [
       "<div>\n",
       "<style scoped>\n",
       "    .dataframe tbody tr th:only-of-type {\n",
       "        vertical-align: middle;\n",
       "    }\n",
       "\n",
       "    .dataframe tbody tr th {\n",
       "        vertical-align: top;\n",
       "    }\n",
       "\n",
       "    .dataframe thead th {\n",
       "        text-align: right;\n",
       "    }\n",
       "</style>\n",
       "<table border=\"1\" class=\"dataframe\">\n",
       "  <thead>\n",
       "    <tr style=\"text-align: right;\">\n",
       "      <th></th>\n",
       "      <th>Genre</th>\n",
       "      <th>Runtime</th>\n",
       "    </tr>\n",
       "  </thead>\n",
       "  <tbody>\n",
       "    <tr>\n",
       "      <th>0</th>\n",
       "      <td>Documentary</td>\n",
       "      <td>58</td>\n",
       "    </tr>\n",
       "    <tr>\n",
       "      <th>1</th>\n",
       "      <td>Thriller</td>\n",
       "      <td>81</td>\n",
       "    </tr>\n",
       "    <tr>\n",
       "      <th>2</th>\n",
       "      <td>Science fiction/Drama</td>\n",
       "      <td>79</td>\n",
       "    </tr>\n",
       "    <tr>\n",
       "      <th>3</th>\n",
       "      <td>Horror thriller</td>\n",
       "      <td>94</td>\n",
       "    </tr>\n",
       "    <tr>\n",
       "      <th>4</th>\n",
       "      <td>Mystery</td>\n",
       "      <td>90</td>\n",
       "    </tr>\n",
       "  </tbody>\n",
       "</table>\n",
       "</div>"
      ],
      "text/plain": [
       "                   Genre  Runtime\n",
       "0            Documentary       58\n",
       "1               Thriller       81\n",
       "2  Science fiction/Drama       79\n",
       "3        Horror thriller       94\n",
       "4                Mystery       90"
      ]
     },
     "execution_count": 10,
     "metadata": {},
     "output_type": "execute_result"
    }
   ],
   "source": [
    "serials_dataset[['Genre', 'Runtime']].head()"
   ]
  },
  {
   "cell_type": "code",
   "execution_count": 21,
   "metadata": {},
   "outputs": [
    {
     "data": {
      "text/plain": [
       "After the Raid                                        1\n",
       "The Beast                                             1\n",
       "Operation Christmas Drop                              1\n",
       "A Week Away                                           1\n",
       "The American Meme                                     1\n",
       "                                                     ..\n",
       "Project Power                                         1\n",
       "Team Foxcatcher                                       1\n",
       "Paris Is Us                                           1\n",
       "Notes from Dunblane: Lesson from a School Shooting    1\n",
       "Jingle Jangle: A Christmas Journey                    1\n",
       "Name: Title, Length: 584, dtype: int64"
      ]
     },
     "execution_count": 21,
     "metadata": {},
     "output_type": "execute_result"
    }
   ],
   "source": [
    "serials_dataset['Title'].value_counts()"
   ]
  },
  {
   "cell_type": "code",
   "execution_count": 11,
   "metadata": {},
   "outputs": [
    {
     "data": {
      "text/html": [
       "<div>\n",
       "<style scoped>\n",
       "    .dataframe tbody tr th:only-of-type {\n",
       "        vertical-align: middle;\n",
       "    }\n",
       "\n",
       "    .dataframe tbody tr th {\n",
       "        vertical-align: top;\n",
       "    }\n",
       "\n",
       "    .dataframe thead th {\n",
       "        text-align: right;\n",
       "    }\n",
       "</style>\n",
       "<table border=\"1\" class=\"dataframe\">\n",
       "  <thead>\n",
       "    <tr style=\"text-align: right;\">\n",
       "      <th></th>\n",
       "      <th>Title</th>\n",
       "      <th>Genre</th>\n",
       "      <th>Premiere</th>\n",
       "      <th>Runtime</th>\n",
       "      <th>IMDB Score</th>\n",
       "      <th>Language</th>\n",
       "    </tr>\n",
       "  </thead>\n",
       "  <tbody>\n",
       "    <tr>\n",
       "      <th>1</th>\n",
       "      <td>Dark Forces</td>\n",
       "      <td>Thriller</td>\n",
       "      <td>August 21, 2020</td>\n",
       "      <td>81</td>\n",
       "      <td>2.6</td>\n",
       "      <td>Spanish</td>\n",
       "    </tr>\n",
       "    <tr>\n",
       "      <th>2</th>\n",
       "      <td>The App</td>\n",
       "      <td>Science fiction/Drama</td>\n",
       "      <td>December 26, 2019</td>\n",
       "      <td>79</td>\n",
       "      <td>2.6</td>\n",
       "      <td>Italian</td>\n",
       "    </tr>\n",
       "    <tr>\n",
       "      <th>3</th>\n",
       "      <td>The Open House</td>\n",
       "      <td>Horror thriller</td>\n",
       "      <td>January 19, 2018</td>\n",
       "      <td>94</td>\n",
       "      <td>3.2</td>\n",
       "      <td>English</td>\n",
       "    </tr>\n",
       "    <tr>\n",
       "      <th>4</th>\n",
       "      <td>Kaali Khuhi</td>\n",
       "      <td>Mystery</td>\n",
       "      <td>October 30, 2020</td>\n",
       "      <td>90</td>\n",
       "      <td>3.4</td>\n",
       "      <td>Hindi</td>\n",
       "    </tr>\n",
       "    <tr>\n",
       "      <th>5</th>\n",
       "      <td>Drive</td>\n",
       "      <td>Action</td>\n",
       "      <td>November 1, 2019</td>\n",
       "      <td>147</td>\n",
       "      <td>3.5</td>\n",
       "      <td>Hindi</td>\n",
       "    </tr>\n",
       "    <tr>\n",
       "      <th>6</th>\n",
       "      <td>Leyla Everlasting</td>\n",
       "      <td>Comedy</td>\n",
       "      <td>December 4, 2020</td>\n",
       "      <td>112</td>\n",
       "      <td>3.7</td>\n",
       "      <td>Turkish</td>\n",
       "    </tr>\n",
       "    <tr>\n",
       "      <th>7</th>\n",
       "      <td>The Last Days of American Crime</td>\n",
       "      <td>Heist film/Thriller</td>\n",
       "      <td>June 5, 2020</td>\n",
       "      <td>149</td>\n",
       "      <td>3.7</td>\n",
       "      <td>English</td>\n",
       "    </tr>\n",
       "    <tr>\n",
       "      <th>8</th>\n",
       "      <td>Paradox</td>\n",
       "      <td>Musical/Western/Fantasy</td>\n",
       "      <td>March 23, 2018</td>\n",
       "      <td>73</td>\n",
       "      <td>3.9</td>\n",
       "      <td>English</td>\n",
       "    </tr>\n",
       "    <tr>\n",
       "      <th>9</th>\n",
       "      <td>Sardar Ka Grandson</td>\n",
       "      <td>Comedy</td>\n",
       "      <td>May 18, 2021</td>\n",
       "      <td>139</td>\n",
       "      <td>4.1</td>\n",
       "      <td>Hindi</td>\n",
       "    </tr>\n",
       "  </tbody>\n",
       "</table>\n",
       "</div>"
      ],
      "text/plain": [
       "                             Title                    Genre  \\\n",
       "1                      Dark Forces                 Thriller   \n",
       "2                          The App    Science fiction/Drama   \n",
       "3                   The Open House          Horror thriller   \n",
       "4                      Kaali Khuhi                  Mystery   \n",
       "5                            Drive                   Action   \n",
       "6                Leyla Everlasting                   Comedy   \n",
       "7  The Last Days of American Crime      Heist film/Thriller   \n",
       "8                          Paradox  Musical/Western/Fantasy   \n",
       "9               Sardar Ka Grandson                   Comedy   \n",
       "\n",
       "            Premiere  Runtime  IMDB Score Language  \n",
       "1    August 21, 2020       81         2.6  Spanish  \n",
       "2  December 26, 2019       79         2.6  Italian  \n",
       "3   January 19, 2018       94         3.2  English  \n",
       "4   October 30, 2020       90         3.4    Hindi  \n",
       "5   November 1, 2019      147         3.5    Hindi  \n",
       "6   December 4, 2020      112         3.7  Turkish  \n",
       "7       June 5, 2020      149         3.7  English  \n",
       "8     March 23, 2018       73         3.9  English  \n",
       "9       May 18, 2021      139         4.1    Hindi  "
      ]
     },
     "execution_count": 11,
     "metadata": {},
     "output_type": "execute_result"
    }
   ],
   "source": [
    "serials_dataset.loc[1:9]"
   ]
  },
  {
   "cell_type": "code",
   "execution_count": 22,
   "metadata": {},
   "outputs": [
    {
     "data": {
      "text/html": [
       "<div>\n",
       "<style scoped>\n",
       "    .dataframe tbody tr th:only-of-type {\n",
       "        vertical-align: middle;\n",
       "    }\n",
       "\n",
       "    .dataframe tbody tr th {\n",
       "        vertical-align: top;\n",
       "    }\n",
       "\n",
       "    .dataframe thead th {\n",
       "        text-align: right;\n",
       "    }\n",
       "</style>\n",
       "<table border=\"1\" class=\"dataframe\">\n",
       "  <thead>\n",
       "    <tr style=\"text-align: right;\">\n",
       "      <th></th>\n",
       "      <th>Runtime</th>\n",
       "      <th>IMDB Score</th>\n",
       "    </tr>\n",
       "  </thead>\n",
       "  <tbody>\n",
       "    <tr>\n",
       "      <th>count</th>\n",
       "      <td>584.000000</td>\n",
       "      <td>584.000000</td>\n",
       "    </tr>\n",
       "    <tr>\n",
       "      <th>mean</th>\n",
       "      <td>93.577055</td>\n",
       "      <td>6.271747</td>\n",
       "    </tr>\n",
       "    <tr>\n",
       "      <th>std</th>\n",
       "      <td>27.761683</td>\n",
       "      <td>0.979256</td>\n",
       "    </tr>\n",
       "    <tr>\n",
       "      <th>min</th>\n",
       "      <td>4.000000</td>\n",
       "      <td>2.500000</td>\n",
       "    </tr>\n",
       "    <tr>\n",
       "      <th>25%</th>\n",
       "      <td>86.000000</td>\n",
       "      <td>5.700000</td>\n",
       "    </tr>\n",
       "    <tr>\n",
       "      <th>50%</th>\n",
       "      <td>97.000000</td>\n",
       "      <td>6.350000</td>\n",
       "    </tr>\n",
       "    <tr>\n",
       "      <th>75%</th>\n",
       "      <td>108.000000</td>\n",
       "      <td>7.000000</td>\n",
       "    </tr>\n",
       "    <tr>\n",
       "      <th>max</th>\n",
       "      <td>209.000000</td>\n",
       "      <td>9.000000</td>\n",
       "    </tr>\n",
       "  </tbody>\n",
       "</table>\n",
       "</div>"
      ],
      "text/plain": [
       "          Runtime  IMDB Score\n",
       "count  584.000000  584.000000\n",
       "mean    93.577055    6.271747\n",
       "std     27.761683    0.979256\n",
       "min      4.000000    2.500000\n",
       "25%     86.000000    5.700000\n",
       "50%     97.000000    6.350000\n",
       "75%    108.000000    7.000000\n",
       "max    209.000000    9.000000"
      ]
     },
     "execution_count": 22,
     "metadata": {},
     "output_type": "execute_result"
    }
   ],
   "source": [
    "serials_dataset.describe()"
   ]
  },
  {
   "cell_type": "code",
   "execution_count": 12,
   "metadata": {},
   "outputs": [
    {
     "data": {
      "text/html": [
       "<div>\n",
       "<style scoped>\n",
       "    .dataframe tbody tr th:only-of-type {\n",
       "        vertical-align: middle;\n",
       "    }\n",
       "\n",
       "    .dataframe tbody tr th {\n",
       "        vertical-align: top;\n",
       "    }\n",
       "\n",
       "    .dataframe thead th {\n",
       "        text-align: right;\n",
       "    }\n",
       "</style>\n",
       "<table border=\"1\" class=\"dataframe\">\n",
       "  <thead>\n",
       "    <tr style=\"text-align: right;\">\n",
       "      <th></th>\n",
       "      <th>Title</th>\n",
       "      <th>Genre</th>\n",
       "      <th>Premiere</th>\n",
       "      <th>Runtime</th>\n",
       "      <th>IMDB Score</th>\n",
       "      <th>Language</th>\n",
       "    </tr>\n",
       "  </thead>\n",
       "  <tbody>\n",
       "    <tr>\n",
       "      <th>39</th>\n",
       "      <td>Sentinelle</td>\n",
       "      <td>Action</td>\n",
       "      <td>March 5, 2021</td>\n",
       "      <td>80</td>\n",
       "      <td>4.7</td>\n",
       "      <td>French</td>\n",
       "    </tr>\n",
       "    <tr>\n",
       "      <th>47</th>\n",
       "      <td>Take the 10</td>\n",
       "      <td>Comedy</td>\n",
       "      <td>January 20, 2017</td>\n",
       "      <td>80</td>\n",
       "      <td>4.8</td>\n",
       "      <td>English</td>\n",
       "    </tr>\n",
       "    <tr>\n",
       "      <th>50</th>\n",
       "      <td>Earth and Blood</td>\n",
       "      <td>Action</td>\n",
       "      <td>April 17, 2020</td>\n",
       "      <td>80</td>\n",
       "      <td>4.9</td>\n",
       "      <td>French</td>\n",
       "    </tr>\n",
       "    <tr>\n",
       "      <th>223</th>\n",
       "      <td>Casting JonBenet</td>\n",
       "      <td>Documentary</td>\n",
       "      <td>April 28, 2017</td>\n",
       "      <td>80</td>\n",
       "      <td>6.1</td>\n",
       "      <td>English</td>\n",
       "    </tr>\n",
       "    <tr>\n",
       "      <th>375</th>\n",
       "      <td>Hope Frozen: A Quest to Live Twice</td>\n",
       "      <td>Documentary</td>\n",
       "      <td>September 15, 2020</td>\n",
       "      <td>80</td>\n",
       "      <td>6.7</td>\n",
       "      <td>Thia/English</td>\n",
       "    </tr>\n",
       "  </tbody>\n",
       "</table>\n",
       "</div>"
      ],
      "text/plain": [
       "                                  Title        Genre            Premiere  \\\n",
       "39                           Sentinelle       Action       March 5, 2021   \n",
       "47                          Take the 10       Comedy    January 20, 2017   \n",
       "50                      Earth and Blood       Action      April 17, 2020   \n",
       "223                    Casting JonBenet  Documentary      April 28, 2017   \n",
       "375  Hope Frozen: A Quest to Live Twice  Documentary  September 15, 2020   \n",
       "\n",
       "     Runtime  IMDB Score      Language  \n",
       "39        80         4.7        French  \n",
       "47        80         4.8       English  \n",
       "50        80         4.9        French  \n",
       "223       80         6.1       English  \n",
       "375       80         6.7  Thia/English  "
      ]
     },
     "execution_count": 12,
     "metadata": {},
     "output_type": "execute_result"
    }
   ],
   "source": [
    "serials_dataset[serials_dataset.Runtime == 80].head()"
   ]
  },
  {
   "cell_type": "code",
   "execution_count": null,
   "metadata": {},
   "outputs": [],
   "source": [
    "%matplotlib inline "
   ]
  },
  {
   "cell_type": "code",
   "execution_count": 24,
   "metadata": {},
   "outputs": [
    {
     "data": {
      "text/plain": [
       "<AxesSubplot:>"
      ]
     },
     "execution_count": 24,
     "metadata": {},
     "output_type": "execute_result"
    },
    {
     "data": {
      "image/png": "[encoded data removed]",
      "text/plain": [
       "<Figure size 432x288 with 1 Axes>"
      ]
     },
     "metadata": {
      "needs_background": "light"
     },
     "output_type": "display_data"
    }
   ],
   "source": [
    "serials_dataset.Language.hist()"
   ]
  },
  {
   "cell_type": "code",
   "execution_count": 26,
   "metadata": {},
   "outputs": [
    {
     "data": {
      "text/plain": [
       "<AxesSubplot:>"
      ]
     },
     "execution_count": 26,
     "metadata": {},
     "output_type": "execute_result"
    },
    {
     "data": {
      "image/png": "[encoded data removed]",
      "text/plain": [
       "<Figure size 432x288 with 1 Axes>"
      ]
     },
     "metadata": {
      "needs_background": "light"
     },
     "output_type": "display_data"
    }
   ],
   "source": [
    "serials_dataset.Runtime.hist()"
   ]
  },
  {
   "cell_type": "code",
   "execution_count": null,
   "metadata": {},
   "outputs": [],
   "source": []
  }
 ],
 "metadata": {
  "kernelspec": {
   "display_name": "Python 3",
   "language": "python",
   "name": "python3"
  },
  "language_info": {
   "codemirror_mode": {
    "name": "ipython",
    "version": 3
   },
   "file_extension": ".py",
   "mimetype": "text/x-python",
   "name": "python",
   "nbconvert_exporter": "python",
   "pygments_lexer": "ipython3",
   "version": "3.8.8"
  }
 },
 "nbformat": 4,
 "nbformat_minor": 4
}
